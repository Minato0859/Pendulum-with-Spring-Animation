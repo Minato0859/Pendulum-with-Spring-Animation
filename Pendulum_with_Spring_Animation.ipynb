{
  "nbformat": 4,
  "nbformat_minor": 0,
  "metadata": {
    "colab": {
      "provenance": []
    },
    "kernelspec": {
      "name": "python3",
      "display_name": "Python 3"
    },
    "language_info": {
      "name": "python"
    }
  },
  "cells": [
    {
      "cell_type": "code",
      "execution_count": null,
      "metadata": {
        "id": "-vd17-JxfGty"
      },
      "outputs": [],
      "source": [
        "import numpy as np\n",
        "import matplotlib.pyplot as plt\n",
        "import scipy.integrate as integrate\n",
        "import matplotlib.animation as animation\n"
      ]
    },
    {
      "cell_type": "code",
      "source": [
        "g = 9.8\n",
        "L = 2\n",
        "m1 = 2\n",
        "m2 = 3\n",
        "k = 4\n"
      ],
      "metadata": {
        "id": "xbTpXzOofLKR"
      },
      "execution_count": null,
      "outputs": []
    },
    {
      "cell_type": "code",
      "source": [
        "def der_state(t, state):\n",
        "  der = np.zeros_like(state)\n",
        "  der[0] = state[1]\n",
        "  der[1] = -(g/L)*np.sin(state[0]) - k/m1*(np.sin(state[0]) - np.sin(state[2]))\n",
        "\n",
        "  der[2] = state[3]\n",
        "  der[3] = -(g/L)*np.sin(state[2]) - k/m2*(np.sin(state[2]) - np.sin(state[0]))\n",
        "\n",
        "  \n",
        "\n",
        "  return der\n",
        "\n"
      ],
      "metadata": {
        "id": "A7yT5WfmfXVv"
      },
      "execution_count": null,
      "outputs": []
    },
    {
      "cell_type": "code",
      "source": [
        "tf = 25\n",
        "n = 1000\n",
        "dt = tf/n\n",
        "T = np.linspace(0.0, tf, n+1)\n"
      ],
      "metadata": {
        "id": "1Cnvu4h2jgCo"
      },
      "execution_count": null,
      "outputs": []
    },
    {
      "cell_type": "code",
      "source": [
        "state0= [np.pi/4, 0.2, np.pi/2, 0.3]\n"
      ],
      "metadata": {
        "id": "Y-llik-ujvXa"
      },
      "execution_count": null,
      "outputs": []
    },
    {
      "cell_type": "code",
      "source": [
        "sol = integrate.solve_ivp(der_state, (0, tf), state0, t_eval=T)\n",
        "ang_pos1 = sol.y[0]\n",
        "ang_pos2 = sol.y[2]\n"
      ],
      "metadata": {
        "id": "Gy77cH1vkBGZ"
      },
      "execution_count": null,
      "outputs": []
    },
    {
      "cell_type": "code",
      "source": [
        "# Cartesian coordinates\n",
        "x1 = L*np.sin(ang_pos1)\n",
        "y1 = -L*np.cos(ang_pos1) #the y-axis points down\n",
        "\n",
        "x2 = L*np.sin(ang_pos2) - 1\n",
        "y2 = -L*np.cos(ang_pos2)\n"
      ],
      "metadata": {
        "id": "l0Ijjn7U6cxo"
      },
      "execution_count": null,
      "outputs": []
    },
    {
      "cell_type": "code",
      "source": [
        "from matplotlib import rc\n",
        "rc('animation', html='html5')\n"
      ],
      "metadata": {
        "id": "c4P-lKPR6zIP"
      },
      "execution_count": null,
      "outputs": []
    },
    {
      "cell_type": "code",
      "source": [
        "fig = plt.figure()\n",
        "ax = fig.add_subplot(111, autoscale_on=False, xlim=(-5, 5), ylim=(-5, 5))\n",
        "ax.grid()\n",
        "\n",
        "line1, = ax.plot([], [], 'o-', lw=2)\n",
        "line2, = ax.plot([], [], 'o-', lw=2)\n",
        "line3, = ax.plot([], [], 'o-', lw=2)\n",
        "time_template = 'time = '\n",
        "time_text = ax.text(0.05, 0.9, '', transform=ax.transAxes)\n",
        "\n",
        "\n",
        "def init():\n",
        "    line1.set_data([], [])\n",
        "    line2.set_data([], [])\n",
        "    line3.set_data([], [])\n",
        "    time_text.set_text('')\n",
        "    return line1, line2, time_text\n",
        "\n",
        "\n",
        "def animate(i):\n",
        "    thisx1 = [0, x1[i]] #the pendulum is anchored at (0,0)\n",
        "    thisy1 = [0, y1[i]]\n",
        "\n",
        "    thisx2 = [-1, x2[i]]\n",
        "    thisy2 = [0, y2[i]]\n",
        "\n",
        "    thisx3 = [x1[i], x2[i]]\n",
        "    thisy3 = [y1[i], y2[i]]\n",
        "\n",
        "    line1.set_data(thisx1, thisy1)\n",
        "    line2.set_data(thisx2, thisy2)\n",
        "    line3.set_data(thisx3, thisy3)\n",
        "    time_text.set_text(time_template + '{:4.1f}'.format(i*dt) + 's')\n",
        "    return line1, line2, time_text\n",
        "\n",
        "ani = animation.FuncAnimation(fig, animate, np.arange(1, len(T)),\n",
        "                              interval=20, blit=True, init_func=init)\n",
        "plt.close(fig)"
      ],
      "metadata": {
        "id": "7ZaHNRV462dE"
      },
      "execution_count": null,
      "outputs": []
    },
    {
      "cell_type": "code",
      "source": [
        "ani"
      ],
      "metadata": {
        "id": "sYfvavR46_6S"
      },
      "execution_count": null,
      "outputs": []
    }
  ]
}